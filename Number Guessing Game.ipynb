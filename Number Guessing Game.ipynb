{
 "cells": [
  {
   "cell_type": "markdown",
   "id": "c8038296",
   "metadata": {},
   "source": [
    "### NUMBER GUESSING GAME"
   ]
  },
  {
   "cell_type": "code",
   "execution_count": 1,
   "id": "5ab04300",
   "metadata": {},
   "outputs": [
    {
     "name": "stdout",
     "output_type": "stream",
     "text": [
      "Enter the lower range of the game: 0\n",
      "Enter the upper range of the game: 100\n",
      "Guess the number: 55\n",
      "Try Again! You guessed too small.\n",
      "Guess the number: 85\n",
      "Try Again! You guessed too small.\n",
      "Guess the number: 95\n",
      "Try Again! You guessed too high.\n",
      "Guess the number: 90\n",
      "Try Again! You guessed too small.\n",
      "Guess the number: 93\n",
      "Try Again! You guessed too small.\n",
      "Guess the number: 94\n",
      "You guessed it in 5th try. Try to do this in less trials and I will give you a special comment as reward.\n"
     ]
    }
   ],
   "source": [
    "import random\n",
    "\n",
    "# Creating options to take user input:\n",
    "lower_bound = int(input('Enter the lower range of the game: '))\n",
    "upper_bound = int(input('Enter the upper range of the game: '))\n",
    "\n",
    "# Picking the random number from the variable proper range.\n",
    "x = int(random.randint(lower_bound, upper_bound))\n",
    "count = 0\n",
    "\n",
    "# Creating user inputs for player to play the game:\n",
    "while count < 11:\n",
    "    input_1 = int(input('Guess the number: '))\n",
    "    if input_1 > x:\n",
    "        print('Try Again! You guessed too high.')\n",
    "    elif input_1 < x:\n",
    "        print('Try Again! You guessed too small.')\n",
    "    else:\n",
    "        if count < 5:\n",
    "            print(f\"Congratulations! You guessed it in {count}th try.\")\n",
    "            break\n",
    "        elif count == 11:\n",
    "            print(f\"You have exhausted the trials. Better Luck Next Time!\")\n",
    "            break\n",
    "        else:\n",
    "            print(f\"You guessed it in {count}th try. Try to do this in less trials and I will give you a special comment as reward.\")\n",
    "            break\n",
    "    count += 1\n",
    "    \n"
   ]
  }
 ],
 "metadata": {
  "kernelspec": {
   "display_name": "Python 3 (ipykernel)",
   "language": "python",
   "name": "python3"
  },
  "language_info": {
   "codemirror_mode": {
    "name": "ipython",
    "version": 3
   },
   "file_extension": ".py",
   "mimetype": "text/x-python",
   "name": "python",
   "nbconvert_exporter": "python",
   "pygments_lexer": "ipython3",
   "version": "3.11.5"
  }
 },
 "nbformat": 4,
 "nbformat_minor": 5
}
